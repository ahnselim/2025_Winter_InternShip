{
 "cells": [
  {
   "cell_type": "code",
   "execution_count": 1,
   "metadata": {},
   "outputs": [
    {
     "data": {
      "text/plain": [
       "<function matplotlib.pyplot.show(close=None, block=None)>"
      ]
     },
     "execution_count": 1,
     "metadata": {},
     "output_type": "execute_result"
    },
    {
     "data": {
      "image/png": "[encoded data removed]",
      "text/plain": [
       "<Figure size 640x480 with 2 Axes>"
      ]
     },
     "metadata": {},
     "output_type": "display_data"
    }
   ],
   "source": [
    "import math\n",
    "import torch\n",
    "from torch import nn\n",
    "from matplotlib import  pyplot as plt\n",
    "\n",
    "class PositionalEncoding(nn.Module):\n",
    "    def __init__(self,d_model,max_len,dropout=0.1):\n",
    "        super().__init__()\n",
    "        self.dropout=nn.Dropout(p=dropout)\n",
    "        \n",
    "        position=torch.arange(max_len).unsqueeze(1)\n",
    "        div_term=torch.exp(\n",
    "            torch.arange(0,d_model,2)*(-math.log(10000.0)/d_model)\n",
    "        )\n",
    "        pe=torch.zeros(max_len,1,d_model)\n",
    "        pe[:,0,0::2]=torch.sin(position*div_term)\n",
    "        pe[:,0,0::2]=torch.cos(position*div_term)\n",
    "        self.register_buffer(\"pe\",pe)\n",
    "        \n",
    "    def forward(self,x):\n",
    "        x=x+self.pe[: x.size(0)]\n",
    "        return self.dropout(x)\n",
    "    \n",
    "encoding=PositionalEncoding(d_model=128,max_len=50)\n",
    "\n",
    "plt.pcolormesh(encoding.pe.numpy().squeeze(),cmap=\"RdBu\")\n",
    "plt.xlim((0,128))\n",
    "plt.colorbar()\n",
    "plt.show"
   ]
  },
  {
   "cell_type": "markdown",
   "metadata": {},
   "source": [
    "Transformer Model\n"
   ]
  },
  {
   "cell_type": "code",
   "execution_count": 3,
   "metadata": {},
   "outputs": [],
   "source": [
    "import math\n",
    "import torch\n",
    "from torch import nn\n",
    "\n",
    "class PositionalEncoding(nn.Module):\n",
    "    def __init__(self,d_model,max_len,dropout=0.1):\n",
    "        super().__init__()\n",
    "        self.dropout=nn.Dropout(p=dropout)\n",
    "        \n",
    "        position=torch.arange(max_len).unsqueeze\n",
    "        div_ter=torch.exp(\n",
    "            torch.arange(0,d_model,2)*(-math.log(10000.0)/d_model)\n",
    "        )\n",
    "        \n",
    "        pe=torch.zeros(max_len,1,d_model)\n",
    "        pe[:,0,0::2]=torch.sin(position*div_ter)\n",
    "        pe[:,0,1::2]=torch.cos(position*div_ter)\n",
    "    \n",
    "    def forward(self,x):\n",
    "        x=x+self.pe[: x.size(0)]\n",
    "        return self.dropout(x)\n",
    "    \n",
    "class TokenEmbedding(nn.Module):\n",
    "    def __init__(self,vocab_size,emb_size):\n",
    "        super().__init()\n",
    "        self.embedding=nn.Embedding(vocab_size)\n",
    "        self.emb_size=emb_size\n",
    "        \n",
    "    def forward(self,tokens):\n",
    "        return self.embedding(tokens.long())*math.sqrt(self.emb_size)\n",
    "    \n",
    "class Seq2SeqTransformer(nn.Module):\n",
    "    def __init__(\n",
    "        self,\n",
    "        num_encoder_layers,\n",
    "        num_decoder_layers,\n",
    "        emb_size,\n",
    "        max_len,\n",
    "        nhead,\n",
    "        src_vocab_size,\n",
    "        tgt_vocab_size,\n",
    "        dim_feedforward,\n",
    "        dropout=0.1,\n",
    "    ):\n",
    "        super().__init__()\n",
    "        self.src_tok_emb=TokenEmbedding(src_vocab_size,emb_size)\n",
    "        self.tgt_tok_emb=TokenEmbedding(tgt_vocab_size,emb_size)\n",
    "        self.positional_encoding=PositionalEncoding(\n",
    "            d_model=emb_size,max_len=max_len,dropout=dropout\n",
    "        )\n",
    "        self.transformer=nn.Transformer(\n",
    "            d_model=emb_size,\n",
    "            nhead=nhead,\n",
    "            num_encoder_layers=num_encoder_layers,\n",
    "            num_decoder_layers=num_decoder_layers,\n",
    "            dim_feedforward=dim_feedforward,\n",
    "            dropout=dropout,\n",
    "            \n",
    "        )\n",
    "        self.generator=nn.Linear(emb_size,tgt_vocab_size)\n",
    "        \n",
    "    def forward(\n",
    "        self,\n",
    "        src,\n",
    "        trg,\n",
    "        src_mask,\n",
    "        tgt_mask,\n",
    "        src_padding_mask,\n",
    "        tgt_padding_mask,\n",
    "        memory_key_padding_mask,\n",
    "    ):\n",
    "        src_emb=self.positional_encoding(self.src_tok_emb(src))\n",
    "        tgt_emb=self.positional_encoding(self.tgt_tok_emb(trg))\n",
    "        outs=self.transformer(\n",
    "            src=src_emb,\n",
    "            tgt=tgt_emb,\n",
    "            src_maks=src_mask,\n",
    "            tgt_mask=tgt_mask,\n",
    "            memory_mask=None,\n",
    "            src_key_padding_mask=src_padding_mask,\n",
    "            tgt_key_padding_mask=tgt_padding_mask,\n",
    "            memory_key_padding_mask=memory_key_padding_mask\n",
    "        )\n",
    "        return self.generator(outs)\n",
    "    \n",
    "    def encode(self,src,src_mask):\n",
    "        return self.transformer.encoder(\n",
    "            self.positional_encoding(self,src_tok_emb(src)),src_mask\n",
    "        )\n",
    "        \n",
    "    def decode(self,tgt,tgt_mask):\n",
    "        return self.transformer.decoder(\n",
    "            self.positional_encoding(self,tgt_tok_emb(tgt)),tgt_mask\n",
    "        )\n",
    "        "
   ]
  },
  {
   "cell_type": "markdown",
   "metadata": {},
   "source": [
    "임베딩 차원 (d_model) : 트랜스포머 모델의 입출력 차원의 크기 정의\n",
    "\n",
    "헤드 (nhead) : 멀티 헤드 어텐션의 헤드 개수 정의. 헤드의 개수는 모델이 어텐션을 수행하는 방법 결정, 헤드의 개수가 많을수록 모델의 병렬 처리 능력 증가. but, 헤드의 개수 증가할수록 매개변수 수 증가\n",
    "\n",
    "인코더 계층 개수 (num_encoder_layers) & 디코더 계층 개수 (num_decoder_layers) : 인코더와 디코더의 계층 수 의미. 모델의 복잡도와 성능에 영향. 계층 많을수록 더 복잡한 문제 해결 , 너무 많으면 과대적합\n",
    "\n",
    "순방향 신경망 크기 (dim_feedforward) : 순방향 신경망의 은닉층 크기. 순방향 신경망 계층은 트랜스포머 계층의 각 입력 위치에 독집적으로 적용\n",
    "\n",
    "드롭아웃 (dropout) : 인코더와 디코더 계층에 적용되는 드롭아웃 비율\n",
    "\n",
    "계층 정규화 입실론 (layer_norm_eps) : 계층 정규화를 수행할 때 분모에 더해지는 입실론 값"
   ]
  },
  {
   "cell_type": "code",
   "execution_count": 6,
   "metadata": {},
   "outputs": [
    {
     "name": "stderr",
     "output_type": "stream",
     "text": [
      "/home/kkwon/.local/lib/python3.8/site-packages/torchvision/datapoints/__init__.py:12: UserWarning: The torchvision.datapoints and torchvision.transforms.v2 namespaces are still Beta. While we do not expect major breaking changes, some APIs may still change according to user feedback. Please submit any feedback you may have in this issue: https://github.com/pytorch/vision/issues/6753, and you can also check out https://github.com/pytorch/vision/issues/7319 to learn more about the APIs that we suspect might involve future changes. You can silence this warning by calling torchvision.disable_beta_transforms_warning().\n",
      "  warnings.warn(_BETA_TRANSFORMS_WARNING)\n",
      "/home/kkwon/.local/lib/python3.8/site-packages/torchvision/transforms/v2/__init__.py:54: UserWarning: The torchvision.datapoints and torchvision.transforms.v2 namespaces are still Beta. While we do not expect major breaking changes, some APIs may still change according to user feedback. Please submit any feedback you may have in this issue: https://github.com/pytorch/vision/issues/6753, and you can also check out https://github.com/pytorch/vision/issues/7319 to learn more about the APIs that we suspect might involve future changes. You can silence this warning by calling torchvision.disable_beta_transforms_warning().\n",
      "  warnings.warn(_BETA_TRANSFORMS_WARNING)\n"
     ]
    },
    {
     "data": {
      "application/vnd.jupyter.widget-view+json": {
       "model_id": "91bf5810bc2e4b30ae197aeb58a8a2d8",
       "version_major": 2,
       "version_minor": 0
      },
      "text/plain": [
       "model.safetensors:   0%|          | 0.00/548M [00:00<?, ?B/s]"
      ]
     },
     "metadata": {},
     "output_type": "display_data"
    },
    {
     "data": {
      "application/vnd.jupyter.widget-view+json": {
       "model_id": "de5d55e39c2f4f44842a9015137e41a4",
       "version_major": 2,
       "version_minor": 0
      },
      "text/plain": [
       "generation_config.json:   0%|          | 0.00/124 [00:00<?, ?B/s]"
      ]
     },
     "metadata": {},
     "output_type": "display_data"
    }
   ],
   "source": [
    "import torch\n",
    "from transformers import AutoModelForCausalLM, AutoTokenizer\n",
    "\n",
    "model_id=\"meta-llama/Llama-3.2-3B-Instruct\"  \n",
    "tokenizer = AutoTokenizer.from_pretrained(\"gpt2\")\n",
    "\n",
    "# EOS토큰을 PAD토큰으로 지정하여 warning이 나오지 않게 함 warnings\n",
    "model = AutoModelForCausalLM.from_pretrained(\"gpt2\", pad_token_id=tokenizer.eos_token_id)\n",
    "input_ids = tokenizer.encode('I enjoy walking with my cute dog', return_tensors='pt')"
   ]
  },
  {
   "cell_type": "code",
   "execution_count": 8,
   "metadata": {},
   "outputs": [
    {
     "name": "stderr",
     "output_type": "stream",
     "text": [
      "The attention mask and the pad token id were not set. As a consequence, you may observe unexpected behavior. Please pass your input's `attention_mask` to obtain reliable results.\n",
      "Setting `pad_token_id` to `eos_token_id`:None for open-end generation.\n"
     ]
    },
    {
     "name": "stdout",
     "output_type": "stream",
     "text": [
      "Output:\n",
      "----------------------------------------------------------------------------------------------------\n",
      "I enjoy walking with my cute dog, but I'm not sure if I'll ever be able to walk with him again.\n",
      "\n",
      "I've been thinking about this for a while now, and I think it's time for me to take a break\n"
     ]
    }
   ],
   "source": [
    "beam_output = model.generate(\n",
    "    input_ids, \n",
    "    max_length=50, \n",
    "    num_beams=5, \n",
    "    no_repeat_ngram_size=2, # 2-gram의 어구가 반복되지 않도록 설정함\n",
    "    early_stopping=True\n",
    ")\n",
    "print(\"Output:\\n\" + 100 * '-')\n",
    "print(tokenizer.decode(beam_output[0], skip_special_tokens=True))"
   ]
  },
  {
   "cell_type": "code",
   "execution_count": null,
   "metadata": {},
   "outputs": [],
   "source": []
  }
 ],
 "metadata": {
  "kernelspec": {
   "display_name": "Python 3",
   "language": "python",
   "name": "python3"
  },
  "language_info": {
   "codemirror_mode": {
    "name": "ipython",
    "version": 3
   },
   "file_extension": ".py",
   "mimetype": "text/x-python",
   "name": "python",
   "nbconvert_exporter": "python",
   "pygments_lexer": "ipython3",
   "version": "3.8.10"
  }
 },
 "nbformat": 4,
 "nbformat_minor": 2
}
